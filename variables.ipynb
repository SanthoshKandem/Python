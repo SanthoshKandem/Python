{
 "cells": [
  {
   "cell_type": "code",
   "execution_count": 55,
   "id": "6c9d6b3c-f385-4971-85c5-75148ee26301",
   "metadata": {},
   "outputs": [
    {
     "name": "stdout",
     "output_type": "stream",
     "text": [
      "2\n",
      "123\n",
      "string\n",
      "True/False\n",
      "Python\n",
      "False\n",
      "python 3.12.2\n",
      "welcome to python3.12.2\n",
      "246\n",
      "61.5\n",
      "61\n",
      "1\n",
      "(1+1j)\n",
      "123456789.0\n",
      "247.56\n",
      "-245.44\n"
     ]
    }
   ],
   "source": [
    "#valid variables\n",
    "a=2\n",
    "print(a)\n",
    "b2=123\n",
    "print(b2)\n",
    "_c12=\"string\"\n",
    "print(_c12)\n",
    "x= \"True/False\"\n",
    "print(x)\n",
    "d123_=\"Python\"\n",
    "print(d123_)\n",
    "y=1>2\n",
    "print (bool(y))\n",
    "abc= \"python 3.12.2\"\n",
    "print(abc)\n",
    "x_yz=\"welcome to python3.12.2\"\n",
    "print(x_yz)\n",
    "c=a*b2\n",
    "print(c)\n",
    "xyz123=b2/a\n",
    "print(xyz123)\n",
    "d23=b2//a\n",
    "print(d23)\n",
    "i=1.56\n",
    "k=int (i)\n",
    "print(k)\n",
    "o=1+1j\n",
    "print(o)\n",
    "u_123=123456789\n",
    "p=float(u_123)\n",
    "print(p)\n",
    "t=i+c\n",
    "print(t)\n",
    "w=i-c-k\n",
    "print(w)"
   ]
  },
  {
   "cell_type": "code",
   "execution_count": 58,
   "id": "fcecb43c-a473-48ec-b508-69fc61f01a40",
   "metadata": {},
   "outputs": [
    {
     "ename": "SyntaxError",
     "evalue": "cannot assign to literal here. Maybe you meant '==' instead of '='? (1470952221.py, line 2)",
     "output_type": "error",
     "traceback": [
      "\u001b[1;36m  Cell \u001b[1;32mIn[58], line 2\u001b[1;36m\u001b[0m\n\u001b[1;33m    123=12\u001b[0m\n\u001b[1;37m    ^\u001b[0m\n\u001b[1;31mSyntaxError\u001b[0m\u001b[1;31m:\u001b[0m cannot assign to literal here. Maybe you meant '==' instead of '='?\n"
     ]
    }
   ],
   "source": [
    "###Invalid operatos\n",
    "123=12\n",
    "print(123)\n"
   ]
  },
  {
   "cell_type": "code",
   "execution_count": 59,
   "id": "6551064d-8948-4284-baf6-5a6157d80c0d",
   "metadata": {},
   "outputs": [
    {
     "ename": "SyntaxError",
     "evalue": "invalid syntax. Maybe you meant '==' or ':=' instead of '='? (944198137.py, line 1)",
     "output_type": "error",
     "traceback": [
      "\u001b[1;36m  Cell \u001b[1;32mIn[59], line 1\u001b[1;36m\u001b[0m\n\u001b[1;33m    @q=\"welcome\"\u001b[0m\n\u001b[1;37m     ^\u001b[0m\n\u001b[1;31mSyntaxError\u001b[0m\u001b[1;31m:\u001b[0m invalid syntax. Maybe you meant '==' or ':=' instead of '='?\n"
     ]
    }
   ],
   "source": [
    "@q=\"welcome\"\n",
    "print(@q)"
   ]
  },
  {
   "cell_type": "code",
   "execution_count": 64,
   "id": "0b2b7bb8-9cb4-4648-8a96-95ba2338ac1c",
   "metadata": {},
   "outputs": [
    {
     "name": "stdout",
     "output_type": "stream",
     "text": [
      "['False', 'None', 'True', 'and', 'as', 'assert', 'async', 'await', 'break', 'class', 'continue', 'def', 'del', 'elif', 'else', 'except', 'finally', 'for', 'from', 'global', 'if', 'import', 'in', 'is', 'lambda', 'nonlocal', 'not', 'or', 'pass', 'raise', 'return', 'try', 'while', 'with', 'yield']\n"
     ]
    },
    {
     "data": {
      "text/plain": [
       "35"
      ]
     },
     "execution_count": 64,
     "metadata": {},
     "output_type": "execute_result"
    }
   ],
   "source": [
    "import keyword\n",
    "python_keywords=keyword.kwlist\n",
    "print(python_keywords)\n",
    "len (python_keywords)"
   ]
  },
  {
   "cell_type": "code",
   "execution_count": 65,
   "id": "dce6c6bc-86ea-4a2f-bdd5-ddc7356eaad8",
   "metadata": {},
   "outputs": [
    {
     "ename": "SyntaxError",
     "evalue": "invalid syntax (468273417.py, line 1)",
     "output_type": "error",
     "traceback": [
      "\u001b[1;36m  Cell \u001b[1;32mIn[65], line 1\u001b[1;36m\u001b[0m\n\u001b[1;33m    as=1.23\u001b[0m\n\u001b[1;37m    ^\u001b[0m\n\u001b[1;31mSyntaxError\u001b[0m\u001b[1;31m:\u001b[0m invalid syntax\n"
     ]
    }
   ],
   "source": [
    "as=1.23\n",
    "print(as)"
   ]
  },
  {
   "cell_type": "code",
   "execution_count": null,
   "id": "664b7fb5-5966-45c6-86fd-4cd34aa8d51f",
   "metadata": {},
   "outputs": [],
   "source": []
  }
 ],
 "metadata": {
  "kernelspec": {
   "display_name": "Python 3 (ipykernel)",
   "language": "python",
   "name": "python3"
  },
  "language_info": {
   "codemirror_mode": {
    "name": "ipython",
    "version": 3
   },
   "file_extension": ".py",
   "mimetype": "text/x-python",
   "name": "python",
   "nbconvert_exporter": "python",
   "pygments_lexer": "ipython3",
   "version": "3.11.7"
  }
 },
 "nbformat": 4,
 "nbformat_minor": 5
}
