{
 "cells": [
  {
   "cell_type": "code",
   "execution_count": 12,
   "id": "b9ca75a1-b8ac-4033-87b8-f0c62dad7a7b",
   "metadata": {},
   "outputs": [
    {
     "name": "stdin",
     "output_type": "stream",
     "text": [
      "please enter a number 6\n"
     ]
    },
    {
     "name": "stdout",
     "output_type": "stream",
     "text": [
      "entered number is not prime number\n"
     ]
    }
   ],
   "source": [
    "#program for indetiifying prime number\n",
    "def primenumber(number):\n",
    "  if number>1:\n",
    "        for num in range(2,number):\n",
    "            if number%num==0:\n",
    "                return\"entered number is not prime number\"\n",
    "        return f\"{x} is prime number\"\n",
    "  return\" this is not a prime number\"\n",
    "x=int(input(\"please enter a number\"))\n",
    "print(primenumber(x))"
   ]
  },
  {
   "cell_type": "code",
   "execution_count": 1,
   "id": "9662f74d-af5d-4786-bf27-9e316c58deed",
   "metadata": {},
   "outputs": [
    {
     "name": "stdout",
     "output_type": "stream",
     "text": [
      "welcome election commssion of India\n",
      "you can register for vote\n"
     ]
    }
   ],
   "source": [
    "#write a program to find vote system\n",
    "print(\"welcome election commssion of India\")\n",
    "name=\"Santhosh\"\n",
    "Age=21\n",
    "Nationalitiy=\"Indian\"\n",
    "if Age>=18:\n",
    " print(\"you can register for vote\")\n",
    "else:\n",
    "    print(\"to register for vote minimum age should be '18' years\")"
   ]
  },
  {
   "cell_type": "code",
   "execution_count": 2,
   "id": "9be55243-d3ab-4a41-8a76-31475cd7b826",
   "metadata": {},
   "outputs": [
    {
     "name": "stdout",
     "output_type": "stream",
     "text": [
      "welcome election commssion of India\n"
     ]
    },
    {
     "name": "stdin",
     "output_type": "stream",
     "text": [
      "please enter your name: Santhosh\n",
      "please enter your age 25\n"
     ]
    },
    {
     "name": "stdout",
     "output_type": "stream",
     "text": [
      "you can register for vote\n"
     ]
    }
   ],
   "source": [
    "#write a program to find vote system\n",
    "print(\"welcome election commssion of India\")\n",
    "name= input(\"please enter your name:\")\n",
    "Age=int(input(\"please enter your age\"))\n",
    "if Age>=18:\n",
    " print(\"you can register for vote\")\n",
    "else:\n",
    "    print(\"to register for vote minimum age should be '18' years\")"
   ]
  },
  {
   "cell_type": "code",
   "execution_count": 3,
   "id": "eb522df1-7be6-4bc8-a52c-90db065410ab",
   "metadata": {},
   "outputs": [
    {
     "name": "stdin",
     "output_type": "stream",
     "text": [
      "number 1: 58\n",
      "number 2: 26\n",
      "number 3: 99\n"
     ]
    },
    {
     "name": "stdout",
     "output_type": "stream",
     "text": [
      "99\n"
     ]
    }
   ],
   "source": [
    "#write a program to find biggest number amonger 3\n",
    "A=int(input(\"number 1:\"))\n",
    "B=int(input(\"number 2:\"))\n",
    "C=int(input(\"number 3:\"))\n",
    "if A>(B and C):\n",
    " print(A)\n",
    "elif B>(A and C):\n",
    " print (B)\n",
    "else:\n",
    "    print(C)"
   ]
  },
  {
   "cell_type": "code",
   "execution_count": 29,
   "id": "36f52ff0-13aa-4db3-ae3f-47e366311406",
   "metadata": {},
   "outputs": [
    {
     "name": "stdin",
     "output_type": "stream",
     "text": [
      "please enter a word: hello\n"
     ]
    },
    {
     "name": "stdout",
     "output_type": "stream",
     "text": [
      "e\n",
      "o\n"
     ]
    }
   ],
   "source": [
    "#vowels in a string\n",
    "A=input(\"please enter a word:\")\n",
    "for vowel in A:\n",
    "    if vowel in 'aeiou':\n",
    "        print(vowel)"
   ]
  },
  {
   "cell_type": "code",
   "execution_count": 31,
   "id": "a7fe1610-59f1-46ac-aec1-1c68802994c2",
   "metadata": {},
   "outputs": [
    {
     "name": "stdin",
     "output_type": "stream",
     "text": [
      "please enter a word: santhosh\n"
     ]
    },
    {
     "name": "stdout",
     "output_type": "stream",
     "text": [
      "s\n",
      "n\n",
      "t\n",
      "h\n",
      "s\n",
      "h\n"
     ]
    }
   ],
   "source": [
    "#Consonants in a string\n",
    "#vowels in a string\n",
    "K=input(\"please enter a word:\")\n",
    "for Consonants in K:\n",
    "    if Consonants not in 'aeiou':\n",
    "        print(Consonants)"
   ]
  },
  {
   "cell_type": "code",
   "execution_count": 33,
   "id": "bef9d499-fd68-44f6-b872-1dfcb6999f00",
   "metadata": {},
   "outputs": [
    {
     "name": "stdin",
     "output_type": "stream",
     "text": [
      "please enter a message: santhosh\n",
      "please enter a alaphabet to check for occurance in above string: t\n"
     ]
    },
    {
     "name": "stdout",
     "output_type": "stream",
     "text": [
      "1\n"
     ]
    }
   ],
   "source": [
    "#occurance of a string\n",
    "string=input(\"please enter a message:\")\n",
    "Alphabet=input(\"please enter a alaphabet to check for occurance in above string:\")\n",
    "print(string.count(Alphabet))"
   ]
  },
  {
   "cell_type": "code",
   "execution_count": 42,
   "id": "6e6356c6-d48c-4730-826b-28a51afcd4ce",
   "metadata": {},
   "outputs": [
    {
     "name": "stdin",
     "output_type": "stream",
     "text": [
      "Enter num: 4\n"
     ]
    },
    {
     "name": "stdout",
     "output_type": "stream",
     "text": [
      "1235"
     ]
    }
   ],
   "source": [
    "#fibonacci series\n",
    "number=int(input(\"Enter num:\"))\n",
    "n1=0\n",
    "n2=1\n",
    "if number<=0:\n",
    "    print(\"Invalid input, please enter a postitive number\")\n",
    "elif number==1:\n",
    "    print(n1)\n",
    "else:\n",
    "    for i in range (0,number):\n",
    "        n3=n1+n2\n",
    "        n1=n2\n",
    "        n2=n3\n",
    "        print(n3,end='')"
   ]
  },
  {
   "cell_type": "code",
   "execution_count": 54,
   "id": "649362f6-f5ba-468e-bfdb-769cf96a5db3",
   "metadata": {},
   "outputs": [
    {
     "name": "stdout",
     "output_type": "stream",
     "text": [
      "999\n",
      "45\n"
     ]
    }
   ],
   "source": [
    "#maximun & minimum number in list\n",
    "def find_largestnumber(list1):\n",
    "    largestnumber=max(list1)\n",
    "    return largestnumber\n",
    "list1=[1,58,986,999,586,2,36,98]\n",
    "result=find_largestnumber(list1)\n",
    "print(result)\n",
    "###otherway\n",
    "list=[1,5,6,9,45,26,12,]\n",
    "list.sort()\n",
    "print(max(list))"
   ]
  },
  {
   "cell_type": "code",
   "execution_count": 56,
   "id": "038409f9-eef0-472b-9a41-de224cad5558",
   "metadata": {},
   "outputs": [
    {
     "name": "stdout",
     "output_type": "stream",
     "text": [
      "0\n",
      "1\n"
     ]
    }
   ],
   "source": [
    "#minimal number is list\n",
    "def smallest_number(list2):\n",
    "    smallestnumber=min(list2)\n",
    "    return smallestnumber\n",
    "list2=[0,1,2,58,96,78]\n",
    "result2=smallest_number(list2)\n",
    "print(result2)\n",
    "#otherway\n",
    "list12=[1,65,25,3,89,7,6]\n",
    "list12.sort()\n",
    "print(min(list12))"
   ]
  },
  {
   "cell_type": "code",
   "execution_count": 82,
   "id": "6817d058-64a8-4877-8c4f-870f703c4ee9",
   "metadata": {},
   "outputs": [
    {
     "name": "stdout",
     "output_type": "stream",
     "text": [
      "2\n",
      "4\n"
     ]
    }
   ],
   "source": [
    "#middle element in list\n",
    "mylist=[5,1,2,4,8]\n",
    "middle_element=int(len(mylist)/2)\n",
    "print(mylist[middle_element])\n",
    "\n",
    "#for even number oflist\n",
    "mylist=[5,1,2,4,8,9,6]\n",
    "length=len(mylist)\n",
    "size=int(length/2)\n",
    "if length%2==0:\n",
    "    mid_ele=(mylist[size]+mylist[size-1])/2\n",
    "    print(mid_ele)\n",
    "else:\n",
    "    mid_ele=(mylist[size])\n",
    "    print(mid_ele)\n",
    "    \n",
    "    "
   ]
  },
  {
   "cell_type": "code",
   "execution_count": 86,
   "id": "af0f5e26-3ad8-4628-b473-f601089fee1a",
   "metadata": {},
   "outputs": [
    {
     "name": "stdout",
     "output_type": "stream",
     "text": [
      "Nokia Apple Samsung\n",
      "<class 'str'>\n"
     ]
    }
   ],
   "source": [
    "#program to convert list to string\n",
    "mobilelist=['Nokia ','Apple ','Samsung']\n",
    "string=''.join(mobilelist)\n",
    "print(string)\n",
    "print(type(string))"
   ]
  },
  {
   "cell_type": "code",
   "execution_count": 96,
   "id": "a2063d91-787b-4d30-b27d-03bfc18d7cc4",
   "metadata": {},
   "outputs": [
    {
     "name": "stdout",
     "output_type": "stream",
     "text": [
      "Mynameissanthosh\n"
     ]
    }
   ],
   "source": [
    "#removing spaces in a string\n",
    "string=\" My name is santhosh \"\n",
    "strin2=string.replace(\" \",\"\")\n",
    "print(strin2)"
   ]
  },
  {
   "cell_type": "code",
   "execution_count": 99,
   "id": "51a354f4-f39f-4b55-9674-87924efe86c2",
   "metadata": {},
   "outputs": [
    {
     "name": "stdout",
     "output_type": "stream",
     "text": [
      "dlrow olleH\n"
     ]
    }
   ],
   "source": [
    "#string reverse\n",
    "string1=\"Hello world\"\n",
    "string2=string1[::-1]\n",
    "print(string2)"
   ]
  },
  {
   "cell_type": "code",
   "execution_count": null,
   "id": "60eec622-458a-46a5-9f65-a4aa1e8faec1",
   "metadata": {},
   "outputs": [],
   "source": []
  }
 ],
 "metadata": {
  "kernelspec": {
   "display_name": "Python 3 (ipykernel)",
   "language": "python",
   "name": "python3"
  },
  "language_info": {
   "codemirror_mode": {
    "name": "ipython",
    "version": 3
   },
   "file_extension": ".py",
   "mimetype": "text/x-python",
   "name": "python",
   "nbconvert_exporter": "python",
   "pygments_lexer": "ipython3",
   "version": "3.11.7"
  }
 },
 "nbformat": 4,
 "nbformat_minor": 5
}
