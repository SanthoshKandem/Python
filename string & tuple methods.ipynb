{
 "cells": [
  {
   "cell_type": "code",
   "execution_count": 48,
   "id": "62bb697e-b75a-474a-94ee-dc699451b6ca",
   "metadata": {},
   "outputs": [
    {
     "name": "stdout",
     "output_type": "stream",
     "text": [
      "21\n",
      " HOW CAN I HELP YOU? \n",
      " how can i help you? \n",
      " HOW CAN I HELP YOU? \n",
      "how can i help you?\n",
      " how may i help you? \n",
      "['how', 'can', 'i', 'help', 'you?']\n",
      "what is your qualification?\n",
      "Extra methods..................................................\n",
      "Please type something\n",
      "-1\n",
      "7\n",
      "['Thank you', 'please read it again', 'respond']\n",
      "False\n"
     ]
    }
   ],
   "source": [
    "#String Methods\n",
    "Statement=\" how can i help you? \"\n",
    "print(len(Statement))  #len Returns the length of string\n",
    "print(Statement.upper())  #upper converts string to Upper case\n",
    "print(Statement.lower())  #lower converts string to lower case\n",
    "print(Statement.swapcase()) #Swap cases, lower case becomes upper case and vice versa\n",
    "print(Statement.strip())    #strip removes starting and ending white spaces\n",
    "newstatement=Statement.replace(\"can\",\"may\") #replace substring with another sub string\n",
    "print(newstatement)\n",
    "print(Statement.split())  #splits the string into list of sub string\n",
    "Statement2=[\"what\",\"is\",\"your\",\"qualification?\"]\n",
    "print(\" \".join(Statement2))\n",
    "\n",
    "print(\"Extra methods..................................................\")\n",
    "#extra methods\n",
    "text=\"please type something\"\n",
    "text2=text.capitalize() # capitalize returns a string where the first character is upper case, and the rest is lower case\n",
    "print(text2)\n",
    "print(text.find(\"can\"))  #same like index but rturns -1 if the value is not found\n",
    "text3=text.index(\"type\") # Searches the string for a specified value and returns the position of where it was found\n",
    "print(text3)\n",
    "conclusion= \"Thank you\\nplease read it again\\nrespond\"\n",
    "finalconclusion= conclusion.splitlines() # splitlines returns Split a string into a list where each line is a list item:\n",
    "print(finalconclusion)\n",
    "print(text.isalpha()) #Returns True if all characters in the string are in the alphabet\n"
   ]
  },
  {
   "cell_type": "code",
   "execution_count": 53,
   "id": "ddb597cf-21ea-4472-b6b5-6d012c3f92fc",
   "metadata": {},
   "outputs": [
    {
     "name": "stdout",
     "output_type": "stream",
     "text": [
      "('Fruits', 'Soaps', 'Ball', 'choclates', 1, 2.5)\n",
      "(5,)\n",
      "('amazon prime', 'netflix', 'aha', 'hotstar')\n",
      "('telugu', 'hindi', 'english', 'tamil')\n",
      "(1, 2, 3, 4, 5)\n"
     ]
    },
    {
     "ename": "TypeError",
     "evalue": "'tuple' object does not support item assignment",
     "output_type": "error",
     "traceback": [
      "\u001b[1;31m---------------------------------------------------------------------------\u001b[0m",
      "\u001b[1;31mTypeError\u001b[0m                                 Traceback (most recent call last)",
      "Cell \u001b[1;32mIn[53], line 17\u001b[0m\n\u001b[0;32m     14\u001b[0m \u001b[38;5;28mprint\u001b[39m(Ranks)\n\u001b[0;32m     16\u001b[0m \u001b[38;5;66;03m#immutable\u001b[39;00m\n\u001b[1;32m---> 17\u001b[0m OTT[\u001b[38;5;241m2\u001b[39m]\u001b[38;5;241m=\u001b[39m\u001b[38;5;124m\"\u001b[39m\u001b[38;5;124mibomma\u001b[39m\u001b[38;5;124m\"\u001b[39m\n\u001b[0;32m     18\u001b[0m \u001b[38;5;28mprint\u001b[39m(OTT)\n",
      "\u001b[1;31mTypeError\u001b[0m: 'tuple' object does not support item assignment"
     ]
    }
   ],
   "source": [
    "#Tuple\n",
    "#creating a tuple\n",
    "Basket=(\"Fruits\",\"Soaps\",\"Ball\",\"choclates\",1,2.5) #mixed data type tuple\n",
    "print(Basket)\n",
    "#single element tuple\n",
    "pens=(5,)\n",
    "print(pens)\n",
    "#single data type tuple\n",
    "OTT=(\"amazon prime\", \"netflix\",\"aha\",\"hotstar\")\n",
    "languages=(\"telugu\",\"hindi\",\"english\",\"tamil\")\n",
    "Ranks=(1,2,3,4,5)\n",
    "print(OTT)\n",
    "print(languages)\n",
    "print(Ranks)\n",
    "\n",
    "#immutable\n",
    "OTT[2]=\"ibomma\"\n",
    "print(OTT)"
   ]
  },
  {
   "cell_type": "code",
   "execution_count": 61,
   "id": "f9d80bbf-2d4b-499c-8b2f-fe97f5d7f7e5",
   "metadata": {},
   "outputs": [
    {
     "name": "stdout",
     "output_type": "stream",
     "text": [
      "aha\n",
      "(1, 2, 3, 4, 5)\n",
      "('hindi',)\n",
      "2.5\n",
      "('Fruits', 'Soaps', 'Ball', 'choclates', 1, 2.5)\n"
     ]
    }
   ],
   "source": [
    "#accessing tuple\n",
    "print(OTT[2])\n",
    "print(Ranks[0:10])\n",
    "print(languages[1:2])\n",
    "print(Basket[5])\n",
    "print(Basket[:])"
   ]
  },
  {
   "cell_type": "code",
   "execution_count": 76,
   "id": "8fbf3341-59db-4463-b000-b15e78ac8b52",
   "metadata": {},
   "outputs": [
    {
     "name": "stdout",
     "output_type": "stream",
     "text": [
      "('amazon prime', 'netflix', 'aha', 'hotstar', 'telugu', 'hindi', 'english', 'tamil')\n",
      "('amazon prime', 'netflix', 'aha', 'hotstar', 'amazon prime', 'netflix', 'aha', 'hotstar')\n",
      "('Fruits', 'Soaps', 'Ball', 'choclates', 1, 2.5, 'Fruits', 'Soaps', 'Ball', 'choclates', 1, 2.5, 'Fruits', 'Soaps', 'Ball', 'choclates', 1, 2.5)\n",
      "(1, 2, 3, 4, 5, 1, 2, 3, 4, 5)\n",
      "('telugu', 'hindi', 'english', 'tamil')\n"
     ]
    }
   ],
   "source": [
    "#tuple operations\n",
    "#concatenation\n",
    "entertainment=OTT[0:4]+languages\n",
    "print(entertainment)\n",
    "#repition\n",
    "print(OTT*2)\n",
    "print(Basket*3)\n",
    "print(Ranks*2)\n",
    "print(languages*1)"
   ]
  },
  {
   "cell_type": "code",
   "execution_count": 105,
   "id": "dc916cdd-c118-4990-9efb-c65873692b76",
   "metadata": {
    "jp-MarkdownHeadingCollapsed": true
   },
   "outputs": [
    {
     "name": "stdout",
     "output_type": "stream",
     "text": [
      "1\n",
      "1\n",
      "1\n",
      "0\n",
      "0\n",
      "........................................................\n",
      "3\n",
      "2\n"
     ]
    },
    {
     "data": {
      "text/plain": [
       "1"
      ]
     },
     "execution_count": 105,
     "metadata": {},
     "output_type": "execute_result"
    }
   ],
   "source": [
    "#tuple methods;\n",
    "print(Ranks.count(1))   #count- returns the number of occurance of specified value\n",
    "print(OTT.count(\"aha\"))\n",
    "print(languages.count(\"tamil\"))\n",
    "print(Basket.index(\"Fruits\"))\n",
    "print(pens.count(1))\n",
    "\n",
    "print(\"........................................................\")\n",
    "#tuple index\n",
    "Ranksindex=Ranks.index(4)\n",
    "print(Ranksindex)\n",
    "Basketindex=Basket.index(\"Ball\")\n",
    "print(Basketindex)\n",
    "OTTindex=OTT.index(\"hotstar\")\n",
    "OTTindex\n",
    "languagesindex=languages.index(\"hindi\")\n",
    "languagesindex"
   ]
  },
  {
   "cell_type": "code",
   "execution_count": null,
   "id": "596cd0f3-2c96-40c5-85f3-c587983454f0",
   "metadata": {},
   "outputs": [],
   "source": []
  }
 ],
 "metadata": {
  "kernelspec": {
   "display_name": "Python 3 (ipykernel)",
   "language": "python",
   "name": "python3"
  },
  "language_info": {
   "codemirror_mode": {
    "name": "ipython",
    "version": 3
   },
   "file_extension": ".py",
   "mimetype": "text/x-python",
   "name": "python",
   "nbconvert_exporter": "python",
   "pygments_lexer": "ipython3",
   "version": "3.11.7"
  }
 },
 "nbformat": 4,
 "nbformat_minor": 5
}
