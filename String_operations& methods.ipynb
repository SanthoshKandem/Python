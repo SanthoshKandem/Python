{
 "cells": [
  {
   "cell_type": "code",
   "execution_count": 12,
   "id": "5afb1785-f7b1-4a15-aa2f-fb3c93023976",
   "metadata": {},
   "outputs": [
    {
     "name": "stdout",
     "output_type": "stream",
     "text": [
      "('India', 'USA', 'China', 'UAE', 'HYD', 'Vizag', 'Bnaglore', 'Delhi')\n",
      "('HYD', 'Vizag', 'Bnaglore', 'Delhi', 'TS', 'AP', 'KL', 'DL')\n",
      "('KNR', 'HYD', 'WGL', 'MDK', 'TS', 'AP', 'KL', 'DL')\n",
      "('South', 'north', 'East', 'west', 'KNR', 'HYD', 'WGL', 'MDK')\n",
      "('India', 'USA', 'China', 'UAE', 'South', 'north', 'East', 'west')\n",
      ".................................................................................................................\n",
      "('India', 'USA', 'China', 'UAE', 'India', 'USA', 'China', 'UAE', 'India', 'USA', 'China', 'UAE', 'India', 'USA', 'China', 'UAE', 'India', 'USA', 'China', 'UAE')\n",
      "('TS', 'AP', 'KL', 'DL', 'TS', 'AP', 'KL', 'DL')\n",
      "('HYD', 'Vizag', 'Bnaglore', 'Delhi')\n",
      "('KNR', 'HYD', 'WGL', 'MDK', 'KNR', 'HYD', 'WGL', 'MDK', 'KNR', 'HYD', 'WGL', 'MDK')\n",
      "('South', 'north', 'East', 'west', 'South', 'north', 'East', 'west', 'South', 'north', 'East', 'west', 'South', 'north', 'East', 'west')\n"
     ]
    }
   ],
   "source": [
    "#String\n",
    "Country=\"India\",\"USA\",\"China\",\"UAE\"\n",
    "State=\"TS\",\"AP\",\"KL\",\"DL\"\n",
    "Cities=\"HYD\",\"Vizag\",\"Bnaglore\",\"Delhi\"\n",
    "District=\"KNR\",\"HYD\",\"WGL\",\"MDK\"\n",
    "Zone=\"South\",\"north\",\"East\",\"west\"\n",
    "#Concatentation\n",
    "\n",
    "Countrywithcity=Country+Cities\n",
    "print(Countrywithcity)\n",
    "Statewithcity=Cities+State\n",
    "print(Statewithcity)\n",
    "Districtwithstate=District+State\n",
    "print(Districtwithstate)\n",
    "Districtwithzone=Zone+District\n",
    "print(Districtwithzone)\n",
    "Countrywithzone=Country+Zone\n",
    "print(Countrywithzone)\n",
    "\n",
    "print(\".................................................................................................................\")\n",
    "\n",
    "#Repition\n",
    "RepeatCountry=Country*5\n",
    "print(RepeatCountry)\n",
    "RepeatState=State*2\n",
    "print(RepeatState)\n",
    "RepeatCities=Cities*1\n",
    "print(RepeatCities)\n",
    "RepeatDistrict=District*3\n",
    "print(RepeatDistrict)\n",
    "RepeatZone=Zone*4\n",
    "print(RepeatZone)"
   ]
  },
  {
   "cell_type": "code",
   "execution_count": 25,
   "id": "f3afafc5-c355-4ba3-af74-2f0dbe70cba7",
   "metadata": {},
   "outputs": [
    {
     "name": "stdout",
     "output_type": "stream",
     "text": [
      "p\n",
      "o\n",
      "k\n",
      "H\n",
      "a\n",
      "............................................................................................\n",
      "ppl\n",
      "otato\n",
      "Mahesh\n",
      "ok\n",
      "Hyder\n"
     ]
    }
   ],
   "source": [
    "#indexing\n",
    "Fruit=\"Apple\"\n",
    "Vegtable=\"Potato\"\n",
    "Name=\"Mahesh\"\n",
    "thing=\"Book\"\n",
    "location=\"Hyderabad\"\n",
    "print(Fruit[1])\n",
    "print(Vegtable[-1])\n",
    "print(thing[3])\n",
    "print(location[0])\n",
    "print(Name[1])\n",
    "\n",
    "print(\"............................................................................................\")\n",
    "print(Fruit[1:4])\n",
    "print(Vegtable[1:])\n",
    "print(Name[:])\n",
    "print(thing[2:5])\n",
    "print(location[:5])"
   ]
  },
  {
   "cell_type": "code",
   "execution_count": 21,
   "id": "83bc65f3-3588-46f2-ba22-f9cf7d6597d2",
   "metadata": {},
   "outputs": [
    {
     "name": "stdout",
     "output_type": "stream",
     "text": [
      "My name is Santhosh and my age is 27\n",
      "My name is Sai and my age is 28\n",
      "My name is Sathwik and my age is 29\n",
      "My name is Mahesh and my age is 18\n",
      "My name is Dhoni and my age is 42\n",
      "...........................................................................................................................................\n",
      "My name is Santhosh and my age is 27\n",
      "My name is Sai and my age is 28\n",
      "My name is Sathwik and my age is 29\n",
      "My name is Mahesh and my age is 18\n",
      "My name is Dhoni and my age is 42\n",
      "........................................................................................................\n",
      "My name is Santhosh and My age is 27\n",
      "My name is Sai and My age is 28\n",
      "My name is Sathwik and My age is 29\n",
      "My name is Mahesh and My age is 18\n",
      "My name is Dhoni and My age is 42\n"
     ]
    }
   ],
   "source": [
    "#string formatting\n",
    "#old style formatting\n",
    "Name1=\"Santhosh\"\n",
    "Age1=27\n",
    "Name2=\"Sai\"\n",
    "Age2=28\n",
    "Name3=\"Sathwik\"\n",
    "Age3=29\n",
    "Name4=\"Mahesh\"\n",
    "Age4=18\n",
    "Name5=\"Dhoni\"\n",
    "Age5=42\n",
    "\n",
    "print(\"My name is %s and my age is %d\" %(Name1,Age1))\n",
    "print(\"My name is %s and my age is %d\" %(Name2,Age2))\n",
    "print(\"My name is %s and my age is %d\" %(Name3,Age3))\n",
    "print(\"My name is %s and my age is %d\" %(Name4,Age4))\n",
    "print(\"My name is %s and my age is %d\" %(Name5,Age5))\n",
    "\n",
    "print(\"...........................................................................................................................................\")\n",
    "#fromat method\n",
    "\n",
    "print(\"My name is {} and my age is {}\".format(Name1,Age1))\n",
    "print(\"My name is {} and my age is {}\".format(Name2,Age2))\n",
    "print(\"My name is {} and my age is {}\".format(Name3,Age3))\n",
    "print(\"My name is {} and my age is {}\".format(Name4,Age4))\n",
    "print(\"My name is {} and my age is {}\".format(Name5,Age5))\n",
    "\n",
    "print(\"........................................................................................................\")\n",
    "#string interpolation\n",
    "print(f\"My name is {Name1} and My age is {Age1}\")\n",
    "print(f\"My name is {Name2} and My age is {Age2}\")\n",
    "print(f\"My name is {Name3} and My age is {Age3}\")\n",
    "print(f\"My name is {Name4} and My age is {Age4}\")\n",
    "print(f\"My name is {Name5} and My age is {Age5}\")\n"
   ]
  },
  {
   "cell_type": "code",
   "execution_count": 22,
   "id": "2610a975-2f12-4cb1-a86e-54987348e5be",
   "metadata": {},
   "outputs": [
    {
     "name": "stdin",
     "output_type": "stream",
     "text": [
      "please enter your Name:  Santhosh\n"
     ]
    },
    {
     "name": "stdout",
     "output_type": "stream",
     "text": [
      "Santhosh\n"
     ]
    }
   ],
   "source": [
    "#dynamic inpuuts\n",
    "Details=input(\"please enter your Name: \")\n",
    "print(Details)"
   ]
  },
  {
   "cell_type": "code",
   "execution_count": 25,
   "id": "7deebdbe-5faa-4f59-b774-31da9f8390ed",
   "metadata": {},
   "outputs": [
    {
     "name": "stdin",
     "output_type": "stream",
     "text": [
      "please enter your age: 25\n"
     ]
    },
    {
     "name": "stdout",
     "output_type": "stream",
     "text": [
      "25\n"
     ]
    }
   ],
   "source": [
    "agedetais=int(input(\"please enter your age:\"))\n",
    "print(agedetais)"
   ]
  },
  {
   "cell_type": "code",
   "execution_count": 26,
   "id": "99a108bc-557a-4418-9c91-146e631f99bd",
   "metadata": {},
   "outputs": [
    {
     "name": "stdin",
     "output_type": "stream",
     "text": [
      "please enter your complete address: 1-2-123\n"
     ]
    },
    {
     "name": "stdout",
     "output_type": "stream",
     "text": [
      "1-2-123\n"
     ]
    }
   ],
   "source": [
    "address=input(\"please enter your complete address:\")\n",
    "print(address)"
   ]
  },
  {
   "cell_type": "code",
   "execution_count": 27,
   "id": "baf86fe6-39e8-43df-a5a5-a46f99096c89",
   "metadata": {},
   "outputs": [
    {
     "name": "stdin",
     "output_type": "stream",
     "text": [
      "please enter city: Hyderabd\n"
     ]
    },
    {
     "name": "stdout",
     "output_type": "stream",
     "text": [
      "Hyderabd\n"
     ]
    }
   ],
   "source": [
    "cityname=input(\"please enter city:\")\n",
    "print(cityname)"
   ]
  },
  {
   "cell_type": "code",
   "execution_count": 29,
   "id": "8d9ec0ea-708b-41b7-8b5a-454d97aecd7a",
   "metadata": {},
   "outputs": [
    {
     "name": "stdin",
     "output_type": "stream",
     "text": [
      "please enter zipcode; 505122\n"
     ]
    }
   ],
   "source": [
    "Zipcode=int(input(\"please enter zipcode;\"))"
   ]
  },
  {
   "cell_type": "code",
   "execution_count": null,
   "id": "114136d5-b1e9-47c2-bf0b-c7d0cadf12dc",
   "metadata": {},
   "outputs": [],
   "source": []
  }
 ],
 "metadata": {
  "kernelspec": {
   "display_name": "Python 3 (ipykernel)",
   "language": "python",
   "name": "python3"
  },
  "language_info": {
   "codemirror_mode": {
    "name": "ipython",
    "version": 3
   },
   "file_extension": ".py",
   "mimetype": "text/x-python",
   "name": "python",
   "nbconvert_exporter": "python",
   "pygments_lexer": "ipython3",
   "version": "3.11.7"
  }
 },
 "nbformat": 4,
 "nbformat_minor": 5
}
