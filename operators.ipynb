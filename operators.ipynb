{
 "cells": [
  {
   "cell_type": "code",
   "execution_count": 9,
   "id": "dbc39f41-0e39-41b2-a68f-a69a465fc198",
   "metadata": {},
   "outputs": [
    {
     "name": "stdout",
     "output_type": "stream",
     "text": [
      "8\n",
      "4\n",
      "10578\n",
      "1.430232558139535\n",
      "1\n",
      "125\n"
     ]
    }
   ],
   "source": [
    "#operators\n",
    "#arthimetic operators: Arthimetic operators are used with numeric values to perfrom common mathematical operators like +,-,*,/,%,//,**\n",
    "a=3\n",
    "b=5\n",
    "c=a+b\n",
    "print(c)\n",
    "_a1=5\n",
    "_b1=9\n",
    "_c1= _b1-_a1\n",
    "print(_c1)\n",
    "d=123\n",
    "e=86\n",
    "f=d*e\n",
    "print(f)\n",
    "k=d/e\n",
    "print(k)\n",
    "i=d//e\n",
    "print(i)\n",
    "z=b**a\n",
    "print(z)"
   ]
  },
  {
   "cell_type": "code",
   "execution_count": 19,
   "id": "ac32e1a8-2897-4583-b199-5b76c902300a",
   "metadata": {},
   "outputs": [
    {
     "name": "stdout",
     "output_type": "stream",
     "text": [
      "86\n",
      "85\n",
      "61.03515625\n",
      "30.517578125\n",
      "931.3225746154785\n"
     ]
    }
   ],
   "source": [
    "#assignment operators: Assignment operators are used to assign values to variables, like +=, -=, *=, /=, **=\n",
    "a+=10\n",
    "print(a)\n",
    "a-=1\n",
    "print(a)\n",
    "z*=1\n",
    "print(z)\n",
    "z/=2\n",
    "print(z)\n",
    "z**=2\n",
    "print(z)"
   ]
  },
  {
   "cell_type": "code",
   "execution_count": 9,
   "id": "bc73228b-141e-455c-801b-cd3cee8051d9",
   "metadata": {},
   "outputs": [
    {
     "name": "stdout",
     "output_type": "stream",
     "text": [
      "False\n",
      "True\n",
      "False\n",
      "True\n",
      "True\n",
      "True\n",
      "False\n"
     ]
    }
   ],
   "source": [
    "#Comparison operators are used to compare two values:==,!=,<,>,>=,<= for these out put will be either \"True\" or \"False\"\n",
    "x=5\n",
    "y=10\n",
    "print(x==y)\n",
    "print(x!=y)\n",
    "print(x>y)\n",
    "z=x<y\n",
    "print(z)\n",
    "print(x<y)\n",
    "print(x<=y)\n",
    "print(x>=y)"
   ]
  },
  {
   "cell_type": "code",
   "execution_count": 38,
   "id": "ef46d449-c7aa-4a10-bcca-68f2bf951c28",
   "metadata": {},
   "outputs": [
    {
     "name": "stdout",
     "output_type": "stream",
     "text": [
      "False\n",
      "True\n",
      "False\n",
      "True\n",
      "True\n",
      "False\n",
      "False\n",
      "True\n",
      "False\n",
      "False\n",
      "True\n",
      "False\n",
      "True\n",
      "True\n",
      "False\n"
     ]
    }
   ],
   "source": [
    "#logical operators are used to check whether an expresssion is True or False.these are used to combine two or more conditions and check the final result.\n",
    "#and: it will return true if both the operands(conditions) are true only\n",
    "#or: this will return true if any one operand is true.\n",
    "#not: return true if operand is false, wise versa\n",
    "k=15\n",
    "print(k>10 and k<5)\n",
    "print(k>10 or k<100)\n",
    "print (not(k>10 and k<25))\n",
    "e2=250\n",
    "print(e2>80 and e2<500)\n",
    "print(e2>80 or e2<1)\n",
    "print (not(e2>80 and e2<500))\n",
    "z222=1024\n",
    "print(z222>=25 and z222<=50)\n",
    "print(z222<1 or z222>100)\n",
    "print(not(z222>=1 or z222<=1500))\n",
    "p3=90\n",
    "print(p3>100 and p3<10)\n",
    "print(p3>50 or p3<10)\n",
    "print(not(p3>=45 or p3<=200))\n",
    "t=1876\n",
    "print(t>=0 and t>=-1 and t>55)\n",
    "print(t<0 or t>=-100 or t>=150)\n",
    "print(not(t>1 and t>100 or t>=500))"
   ]
  },
  {
   "cell_type": "code",
   "execution_count": 53,
   "id": "700a844f-9eee-419a-a44a-1812c955c684",
   "metadata": {},
   "outputs": [
    {
     "name": "stdout",
     "output_type": "stream",
     "text": [
      "False\n",
      "True\n",
      "True\n",
      "False\n",
      "False\n",
      "True\n",
      "True\n",
      "False\n",
      "False\n",
      "True\n"
     ]
    }
   ],
   "source": [
    "#Identity Operators:Identity operators are used to compare the objects, not if they are equal, but if they are actually the same object, with the same memory location:\n",
    "# is(returns true if the operands are identifical( refer to same object)  & is not ( returs true if the operands are not identical)are the two identity operators\n",
    "\n",
    "f1=\"Hello\"\n",
    "f2=\" Hello, welcome to python 3.12.2\"\n",
    "print(f1 is f2)\n",
    "print(f2 is not f1)\n",
    "r1=55\n",
    "r2=55\n",
    "print(r1 is r2)\n",
    "print (r1 is not r2)\n",
    "o1=\"Hi 123\"\n",
    "o2= \"Hey 1234\"\n",
    "print(o1 is o2)\n",
    "print(o1 is not o2)\n",
    "q1= \"Hi\"\n",
    "q2=\"Hi\"\n",
    "print(q1 is q2)\n",
    "print(q2 is not q1)\n",
    "abc1= \"XyZ_123\"\n",
    "abc2=\"XYZ_123\"\n",
    "print(abc1 is abc2)\n",
    "print(abc2 is not abc1)\n",
    "\n"
   ]
  },
  {
   "cell_type": "code",
   "execution_count": 68,
   "id": "3b580f0f-ff41-4cac-b468-24a12395c95d",
   "metadata": {},
   "outputs": [
    {
     "name": "stdout",
     "output_type": "stream",
     "text": [
      "True\n",
      "False\n",
      "True\n",
      "False\n",
      "True\n",
      "False\n",
      "True\n",
      "True\n",
      "True\n"
     ]
    }
   ],
   "source": [
    "#Membership operators: Membership operators are used to test if a sequence is presented in an object:\n",
    "#in : Returns True if a sequence with the specified value is present in the object\t\n",
    "#not in: Returns True if a sequence with the specified value is not present in the object\n",
    "\n",
    "X4='Hello world'\n",
    "Y4=[1,2,3,4,5,6]\n",
    "print(3 in Y4)\n",
    "print(3 not in Y4)\n",
    "print(100 not in Y4)\n",
    "print('H' not in X4)\n",
    "print('Hello' in X4)\n",
    "t4='Good Morning'\n",
    "m4= [10,20,30,40,55,77,88,99]\n",
    "print(15 in m4)\n",
    "print(11 not in m4)\n",
    "print(20 in m4)\n",
    "print(25 not in m4)"
   ]
  },
  {
   "cell_type": "code",
   "execution_count": 71,
   "id": "bb3fdfc9-4f1c-4e54-98b6-151936245c7d",
   "metadata": {},
   "outputs": [
    {
     "data": {
      "text/plain": [
       "'\\nOperator\\tName\\tDescription\\n& \\tAND\\tSets each bit to 1 if both bits are 1\\n|\\tOR\\tSets each bit to 1 if one of two bits is 1\\n ^\\tXOR\\tSets each bit to 1 if only one of two bits is 1\\n~ \\tNOT\\tInverts all the bits\\n<<\\tZero fill left shift\\tShift left by pushing zeros in from the right and let the leftmost bits fall off\\n>>\\tSigned right shift\\tShift right by pushing copies of the leftmost bit in from the left, and let the rightmost bits fall off\\n'"
      ]
     },
     "execution_count": 71,
     "metadata": {},
     "output_type": "execute_result"
    }
   ],
   "source": [
    "#Bitwise Operators\n",
    "###Bitwise operators are used to compare (binary) numbers:\n",
    "'''\n",
    "Operator\tName\tDescription\n",
    "& \tAND\tSets each bit to 1 if both bits are 1\n",
    "|\tOR\tSets each bit to 1 if one of two bits is 1\n",
    " ^\tXOR\tSets each bit to 1 if only one of two bits is 1\n",
    "~ \tNOT\tInverts all the bits\n",
    "<<\tZero fill left shift\tShift left by pushing zeros in from the right and let the leftmost bits fall off\n",
    ">>\tSigned right shift\tShift right by pushing copies of the leftmost bit in from the left, and let the rightmost bits fall off\n",
    "'''"
   ]
  },
  {
   "cell_type": "code",
   "execution_count": 84,
   "id": "1115bef0-fad8-4078-8e4d-367e19b64492",
   "metadata": {},
   "outputs": [
    {
     "name": "stdout",
     "output_type": "stream",
     "text": [
      "0\n",
      "156\n",
      "152\n",
      "-5\n",
      "624\n",
      "19\n"
     ]
    }
   ],
   "source": [
    "d2=2\n",
    "e3=5\n",
    "print(d2&e3)\n",
    "\n",
    "p5=156\n",
    "q5=4\n",
    "print(p5 | q5)\n",
    "print(q5 ^ p5)\n",
    "print(~q5)\n",
    "print(p5<<2)\n",
    "print(p5>>3)"
   ]
  },
  {
   "cell_type": "code",
   "execution_count": 86,
   "id": "631aab95-b6f0-49c4-852e-b81a9ddcb92e",
   "metadata": {},
   "outputs": [
    {
     "name": "stdout",
     "output_type": "stream",
     "text": [
      "69\n"
     ]
    }
   ],
   "source": [
    "#Precedence:operators have different levels of precedence, which determine the order in which they are evaluated. When multiple operators are present in an expression, the ones with higher precedence are evaluated first. In the case of operators with the same precedence, their associativity comes into play, determining the order of evaluation\n",
    "i3=7+35-10+(12+7+6*3)\n",
    "print(i3)\n"
   ]
  },
  {
   "cell_type": "code",
   "execution_count": null,
   "id": "0d932345-ef1b-4ba1-a72e-7c948ef4ccba",
   "metadata": {},
   "outputs": [],
   "source": []
  }
 ],
 "metadata": {
  "kernelspec": {
   "display_name": "Python 3 (ipykernel)",
   "language": "python",
   "name": "python3"
  },
  "language_info": {
   "codemirror_mode": {
    "name": "ipython",
    "version": 3
   },
   "file_extension": ".py",
   "mimetype": "text/x-python",
   "name": "python",
   "nbconvert_exporter": "python",
   "pygments_lexer": "ipython3",
   "version": "3.11.7"
  }
 },
 "nbformat": 4,
 "nbformat_minor": 5
}
