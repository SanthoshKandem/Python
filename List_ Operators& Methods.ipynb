{
 "cells": [
  {
   "cell_type": "code",
   "execution_count": 32,
   "id": "5c73b1b2-3df1-4848-8a55-4c902cb0a39e",
   "metadata": {},
   "outputs": [
    {
     "name": "stdout",
     "output_type": "stream",
     "text": [
      "['Apple', 'Samsung', '1+', 'Realme', 'Nokia', 'Moto', 'Iqoo', 'oppo', 'Vivo'] ['lenovo', 'Macbook', 'Dell', 'Hp', 'Acer', 'Asus', 'HCL', 'LG', 'MSI', 'SONY'] [1, 2, 5, 8, 9, 10, 25, 14, 16, 63, 52, 47, 99] ['C', 'C++', 'Java', 'Python', 'Anaconda', 'Oracle', 'HTML', 1, 2, 3, 4] ['HDFC', 'ICICI', 'SBI', 'SBI II', 'KVB', 'PNB', 'UNION']\n"
     ]
    }
   ],
   "source": [
    "#lists:\n",
    "mobiles=[\"Apple\", \"Samsung\", \"1+\", \"Realme\", \"Nokia\", \"Moto\", \"Iqoo\" , \"oppo\", \"Vivo\"]\n",
    "laptops=[\"lenovo\", \"Macbook\", \"Dell\", \"Hp\", \"Acer\", \"Asus\", \"HCL\", \"LG\", \"MSI\", \"SONY\" ]\n",
    "Numbers=[1,2,5,8,9,10,25,14,16,63,52,47,99]\n",
    "Applications= [\"C\", \"C++\", \"Java\", \"Python\", \"Anaconda\", \"Oracle\", \"HTML\", 1,2,3,4,]\n",
    "Banks= [\"HDFC\", \"ICICI\", \"SBI\", \"SBI II\", \"KVB\", \"PNB\", \"UNION\"]\n",
    "\n",
    "print(mobiles,laptops,Numbers,Applications,Banks)\n"
   ]
  },
  {
   "cell_type": "code",
   "execution_count": 10,
   "id": "bdc74b3d-cc51-4f9a-8614-4d87ef38dcb2",
   "metadata": {},
   "outputs": [
    {
     "name": "stdout",
     "output_type": "stream",
     "text": [
      "Samsung\n",
      "SONY\n",
      "25\n",
      "HTML\n",
      "SBI II\n",
      "Samsung SONY 25 HTML SBI II\n"
     ]
    }
   ],
   "source": [
    "#Indexing\n",
    "print(mobiles[1])\n",
    "print(laptops[-1])\n",
    "print(Numbers[6])\n",
    "print(Applications[-5])\n",
    "print(Banks[3])\n",
    "print(mobiles[1],laptops[-1], Numbers[6], Applications[-5], Banks[3])"
   ]
  },
  {
   "cell_type": "code",
   "execution_count": 13,
   "id": "7ceaf55e-1fce-4c70-b954-a8f64d6c75d1",
   "metadata": {},
   "outputs": [
    {
     "name": "stdout",
     "output_type": "stream",
     "text": [
      "['Samsung', '1+']\n",
      "['Asus', 'HCL', 'LG', 'MSI', 'SONY']\n",
      "[1, 2, 5, 8, 9, 10, 25, 14, 16, 63, 52, 47, 99]\n",
      "['SBI II', 'KVB', 'PNB']\n",
      "['Samsung', '1+'] ['Asus', 'HCL', 'LG', 'MSI', 'SONY'] [1, 2, 5, 8, 9, 10, 25, 14, 16, 63, 52, 47, 99]\n"
     ]
    }
   ],
   "source": [
    "#Slicing\n",
    "print(mobiles[1:3])\n",
    "print(laptops[5:])\n",
    "print(Numbers[:])\n",
    "print(Banks[3:6])\n",
    "print(mobiles[1:3], laptops[5:], Numbers [:])"
   ]
  },
  {
   "cell_type": "code",
   "execution_count": 18,
   "id": "65136b03-f59f-4f32-86f7-382daba4d388",
   "metadata": {},
   "outputs": [
    {
     "name": "stdout",
     "output_type": "stream",
     "text": [
      "['Apple', 'Samsung', '1+', 'Realme', 'Nokia', 'Moto', 'Iqoo', 'oppo', 'Vivo', 1, 2, 5, 8, 9, 10, 25, 14, 16, 63, 52, 47, 99]\n",
      "['Samsung', '1+', 'Realme', 5]\n",
      "['Apple', 'Samsung', '1+', 'Realme', 'Nokia', 'Moto', 'Iqoo', 'oppo', 'Vivo', 1, 2, 5, 8, 9, 10, 25, 14, 16, 63, 52, 47, 99, 'len,ovo', 'Macbook', 'Dell', 'Hp', 'Acer', 'Asus', 'HCL', 'LG', 'MSI', 'SONY', 'HDFC', 'ICICI', 'SBI', 'SBI II', 'KVB', 'PNB', 'UNION', 'C', 'C++', 'Java', 'Python', 'Anaconda', 'Oracle', 'HTML', 1, 2, 3, 4]\n"
     ]
    }
   ],
   "source": [
    "#Concantetaion\n",
    "concantetaion=mobiles+Numbers\n",
    "print(concantetaion)\n",
    "print(mobiles[1:4]+Numbers[2:3])\n",
    "print(mobiles+Numbers+laptops+Banks+Applications)"
   ]
  },
  {
   "cell_type": "code",
   "execution_count": 31,
   "id": "dc2e229b-eeb0-47c1-9769-f9f61c1bab4b",
   "metadata": {},
   "outputs": [
    {
     "name": "stdout",
     "output_type": "stream",
     "text": [
      "['Apple', 'Samsung', '1+', 'Realme', 'Nokia', 'Moto', 'Iqoo', 'oppo', 'Vivo', 'Apple', 'Samsung', '1+', 'Realme', 'Nokia', 'Moto', 'Iqoo', 'oppo', 'Vivo']\n",
      "['C', 'C++', 'Java', 'Python', 'Anaconda', 'Oracle', 'HTML', 1, 2, 3, 4]\n",
      "[2, 2, 2]\n",
      "SONYSONY\n",
      "['Apple', 'Samsung', '1+', 'Realme', 'Nokia', 'Moto', 'Iqoo', 'oppo', 'Vivo'] ['C', 'C++', 'Java', 'Python', 'Anaconda', 'Oracle', 'HTML', 1, 2, 3, 4] [1, 2, 5, 8, 9, 10, 25, 14, 16, 63, 52, 47, 99] ['len,ovo', 'Macbook', 'Dell', 'Hp', 'Acer', 'Asus', 'HCL', 'LG', 'MSI', 'SONY'] ['HDFC', 'ICICI', 'SBI', 'SBI II', 'KVB', 'PNB', 'UNION', 'HDFC', 'ICICI', 'SBI', 'SBI II', 'KVB', 'PNB', 'UNION']\n"
     ]
    }
   ],
   "source": [
    "#Repitition\n",
    "print(mobiles*2)\n",
    "print(Applications*1)\n",
    "print(Numbers[1:2]*3)\n",
    "print(laptops[-1]*2)\n",
    "print(mobiles,Applications,Numbers,laptops,Banks*2)"
   ]
  },
  {
   "cell_type": "code",
   "execution_count": 40,
   "id": "589f0329-ebfa-4fc0-8f03-9c7ae1a4202d",
   "metadata": {},
   "outputs": [
    {
     "name": "stdout",
     "output_type": "stream",
     "text": [
      "['lenovo', 'MSI', 'TCL', 'MI', 'MI', 'MI', 'MI', 'MI', 'Hp', 'Acer', 'Asus', 'HCL', 'LG', 'MSI', 'SONY']\n",
      "['lenovo', 'MSI', 'TCL', 'MI', 'MI', 'MI', 'MI', 'MI', 'MI', 'Hp', 'Acer', 'Asus', 'HCL', 'LG', 'MSI', 'SONY']\n",
      "['C', 'C++', 'Databse', 'Python', 'Anaconda', 'Oracle', 'HTML', 1, 2, 3, 4]\n",
      "['HDFC', 'HDFC', 'SBI', 'SBI II', 'KVB', 'PNB', 'UNION']\n",
      "[1, 2, -2, 8, 9, 10, 25, 14, 16, 63, 52, 47, 99]\n"
     ]
    }
   ],
   "source": [
    "#change list\n",
    "laptops[1]=\"MSI\"\n",
    "print(laptops)\n",
    "laptops[1:3]= \"MSI\", \"TCL\", \"MI\"\n",
    "print(laptops)\n",
    "Applications[2]=\"Databse\"\n",
    "print(Applications)\n",
    "Banks[1]=\"HDFC\"\n",
    "print(Banks)\n",
    "Numbers[2]=-2\n",
    "print(Numbers)"
   ]
  },
  {
   "cell_type": "code",
   "execution_count": 73,
   "id": "7bb7871a-ae3e-4165-bb48-64fd8bdd6d3c",
   "metadata": {},
   "outputs": [
    {
     "name": "stdout",
     "output_type": "stream",
     "text": [
      "['Apple', 'Banana', 'KIWI', 'Mango']\n",
      "['potato', 'tomato', 'Brinjal', 'Capsicum']\n",
      "['Spiderman', 'Tom', 'Jerry', 'Batman']\n",
      "[12000, 15000, 25000, 50000]\n",
      "['Spiderman', 'Tom', 'Jerry', 'Batman']\n",
      ".........................................................................................\n",
      "['Apple', 'Banana', 'KIWI', 'Mango', 'potato', 'tomato', 'Brinjal', 'Capsicum']\n",
      "['Spiderman', 'Tom', 'Jerry', 'Batman', 12000, 15000, 25000, 50000]\n",
      "['Apple', 'Banana', 'KIWI', 'Mango', 'potato', 'tomato', 'Brinjal', 'Capsicum', 15000, 25000]\n",
      "['potato', 'tomato', 'Brinjal', 'Capsicum', 'Spinach', 'Spring Mix']\n"
     ]
    }
   ],
   "source": [
    "#list methods\n",
    "                                    #Append\n",
    "Fruits=[\"Apple\", \"Banana\", \"KIWI\"]\n",
    "Vegtables=[\"potato\", \"tomato\", \"Brinjal\" ]\n",
    "Charecters= [\"Spiderman\", \"Tom\", \"Jerry\"]\n",
    "Salary=[12000,15000,25000]\n",
    "language=[\"telugu\", \"Hindi\", \"English\"]\n",
    "Fruits.append(\"Mango\")\n",
    "Vegtables.append(\"Capsicum\")\n",
    "Charecters.append(\"Batman\")\n",
    "Salary.append(50000)\n",
    "language.append(\"tamil\")\n",
    "print(Fruits)\n",
    "print(Vegtables)\n",
    "print(Charecters)\n",
    "print(Salary)\n",
    "print(Charecters)\n",
    "\n",
    "print('.........................................................................................')\n",
    "leafyveg=[\"Spinach\",\"Spring Mix\"]                          #Extend\n",
    "Fruits.extend(Vegtables)\n",
    "print(Fruits)\n",
    "Charecters.extend(Salary)\n",
    "print(Charecters)\n",
    "Fruits.extend(Salary[1:3])\n",
    "print(Fruits)\n",
    "Vegtables.extend(leafyveg)\n",
    "print(Vegtables)"
   ]
  },
  {
   "cell_type": "code",
   "execution_count": 90,
   "id": "5cbff90d-1a15-408f-ac56-c04f504bed68",
   "metadata": {},
   "outputs": [
    {
     "name": "stdout",
     "output_type": "stream",
     "text": [
      "['Airtel', 'Jio', 'Reliance', 'BSNL', 'VI']\n",
      "['zara', 'H&M', 'Zudio', 'Adidas', 'Nike']\n",
      "['Rolex', 'Titan', 'Rolex', 'Fastrack', 'Samsung']\n",
      "['Nike', 'Adidas', 'PUMA', 'Redtape', 'killer']\n",
      "['Ambani', 'Bill Gates', 'Elon Musk', 'Adani', 'Warren Buffet']\n"
     ]
    }
   ],
   "source": [
    "#insert\n",
    "mobilenetworks=[\"Airtel\",\"Jio\",\"BSNL\",\"VI\"]\n",
    "clothingBrands=[\"zara\",\"H&M\",\"Zudio\",\"Nike\" ]\n",
    "watches=[\"Titan\",\"Rolex\",\"Fastrack\",\"Samsung\"]\n",
    "Shoes=[\"Nike\",\"Adidas\",\"PUMA\",\"Redtape\"]\n",
    "Owners=[\"Ambani\",\"Elon Musk\",\"Adani\",\"Warren Buffet\"]\n",
    "\n",
    "mobilenetworks.insert(2,\"Reliance\")\n",
    "print(mobilenetworks)\n",
    "clothingBrands.insert(-1,Shoes[1])\n",
    "print(clothingBrands)\n",
    "watches.insert(0,\"Rolex\")\n",
    "print(watches)\n",
    "Shoes.insert(4,\"killer\")\n",
    "print(Shoes)\n",
    "Owners.insert(1, \"Bill Gates\")\n",
    "print(Owners)"
   ]
  },
  {
   "cell_type": "code",
   "execution_count": 98,
   "id": "9fbc80bf-7188-4f7c-8411-41fabb58db60",
   "metadata": {},
   "outputs": [
    {
     "name": "stdout",
     "output_type": "stream",
     "text": [
      "[2, 3, 4, 5, 6, 1, 5, 4, 1, 8, 9, 0, 66, 88, 0]\n",
      "['India', 'USA', 'china', 'Russia', 'UAE', 'JAPAN', 'Singapore', 'Japan']\n",
      "['Santhosh', 'Sai', 'Sathwik', 'Raj']\n",
      "[1500, 4500, 2500, 8200, 6900, 25000, 2400, 1, 0]\n",
      "['Hyderabad', 'Banglore', 'Delhi', 'pune', 'Mumbai']\n",
      "................................................................................................................................\n",
      "[2, 3, 4, 5, 1, 5, 4, 1, 8, 9, 0, 66, 88, 0]\n"
     ]
    }
   ],
   "source": [
    "#remove\n",
    "Values=[1,2,3,4,5,6,1,5,4,1,8,9,0,66,88,0]\n",
    "Countries=[\"India\",\"USA\",\"china\",\"Japan\",\"Russia\",\"UAE\",\"JAPAN\",\"Singapore\",\"Japan\"]\n",
    "Price=[1500,2500,4500,2500,8200,6900,25000,2400,1,0]\n",
    "persons=[\"Santhosh\",\"Sai\",\"Sathwik\",\"Raj\",\"Mahesh\"]\n",
    "cities=[\"Hyderabad\",\"Banglore\",\"Delhi\",\"Mumbai\",\"pune\",\"Mumbai\"]\n",
    "Values.remove(1)\n",
    "Countries.remove(\"Japan\")\n",
    "Price.remove(2500)\n",
    "persons.remove(\"Mahesh\")\n",
    "cities.remove(\"Mumbai\")\n",
    "print(Values)\n",
    "print(Countries)\n",
    "print(persons)\n",
    "print(Price)\n",
    "print(cities)\n",
    "\n",
    "print(\"................................................................................................................................\")\n",
    "Values.pop(4)\n",
    "print(Values)"
   ]
  },
  {
   "cell_type": "code",
   "execution_count": 100,
   "id": "34e0c908-a067-4103-a388-4dd9ddf20903",
   "metadata": {},
   "outputs": [
    {
     "name": "stdout",
     "output_type": "stream",
     "text": [
      "2\n",
      "1.8\n",
      "d\n",
      "Volleyball\n",
      "AB\n"
     ]
    }
   ],
   "source": [
    "#pop\n",
    "integers=[1,2,3,4,5,6,]\n",
    "float=[1.1,1.2,1.3,1.4,1.5,1.6,1.7,1.8]\n",
    "Alphabets=[\"A\",\"B\",\"c\",\"d\",\"e\",\"f\"]\n",
    "sports=[\"cricket\", \"football\", \"Volleyball\", \"chess\"]\n",
    "Strings=[\"AB\",\"BC\",\"PS\",\"ok\"]\n",
    "int_pop=integers.pop(1)\n",
    "float_pop=float.pop(-1)\n",
    "Alphabets_pop=Alphabets.pop(3)\n",
    "sports_pop=sports.pop(2)\n",
    "Strings_pop=Strings.pop(0)\n",
    "print(int_pop)\n",
    "print(float_pop)\n",
    "print(Alphabets_pop)\n",
    "print(sports_pop)\n",
    "print(Strings_pop)"
   ]
  },
  {
   "cell_type": "code",
   "execution_count": 106,
   "id": "24b307ec-e728-41c3-9036-9785b21b7995",
   "metadata": {},
   "outputs": [
    {
     "name": "stdout",
     "output_type": "stream",
     "text": [
      "3\n",
      "1\n",
      "4\n",
      "3\n",
      "3\n"
     ]
    }
   ],
   "source": [
    "#index\n",
    "\n",
    "integers=[1,2,3,4,5,6,7]\n",
    "float=[1.2,2.3,1.4]\n",
    "Alphabets=[\"A\",\"B\",\"c\",\"d\",\"e\",\"f\"]\n",
    "sports=[\"cricket\", \"football\", \"Volleyball\", \"chess\"]\n",
    "Strings=[\"AB\",\"BC\",\"PS\",\"ok\"]\n",
    "index_integers=integers.index(4)\n",
    "index_float=float.index(2.3)\n",
    "inderx_Alphabets=Alphabets.index(\"e\")\n",
    "index_sports=sports.index(\"chess\")\n",
    "index_Strings=Strings.index(\"ok\")\n",
    "print(index_integers)\n",
    "print(index_float)\n",
    "print(inderx_Alphabets)\n",
    "print(index_sports)\n",
    "print(index_Strings)"
   ]
  },
  {
   "cell_type": "code",
   "execution_count": 109,
   "id": "eb01a931-844c-4e17-b6a4-e9bd482f7426",
   "metadata": {},
   "outputs": [
    {
     "name": "stdout",
     "output_type": "stream",
     "text": [
      "3\n",
      "0\n",
      "2\n",
      "2\n",
      "2\n",
      "1\n"
     ]
    }
   ],
   "source": [
    "#count\n",
    "A=[1,1,1,2,2,2,3,3,3,3,3,3,4,5,5,5,6,6,6,7,7,]\n",
    "B=[\"A\",\"A\",\"A\",\"B\",\"B\",\"C\",\"D\",\"D\"]\n",
    "C=[\"Hi\",\"Hello\",\"Hi\",\"Hello\", \"Hi \", \"Hello \"]\n",
    "D=[1.2,1.3,1.4,1.2,1.5,1.6]\n",
    "E=[\"Hello World\"]\n",
    "countA=A.count(1)\n",
    "CountB=B.count(D)\n",
    "CountC=C.count(\"Hi\")\n",
    "CountD=D.count(1.2)\n",
    "CountE=E.count(\"Hello World\")\n",
    "print(countA)\n",
    "print(CountB)\n",
    "print(CountC)\n",
    "print(CountC)\n",
    "print(CountD)\n",
    "print(CountE)"
   ]
  },
  {
   "cell_type": "code",
   "execution_count": 116,
   "id": "e21c5d70-1e6d-4a84-b878-42d9a442522d",
   "metadata": {},
   "outputs": [
    {
     "name": "stdout",
     "output_type": "stream",
     "text": [
      "[1, 2, 22, 25, 47, 52, 62, 89, 108, 986]\n",
      "['A', 'C', 'M', 'Z', 'l', 'o']\n",
      "['Hello', 'Hello', 'Hello ', 'Hi', 'Hi', 'Hi ']\n",
      "[1.2, 1.2, 1.3, 1.4, 1.5, 1.6]\n",
      "['Hello World', 'Mahesh', 'Rajesh', 'Surya']\n",
      ".........................................................................................................................\n",
      "[986, 108, 89, 62, 52, 47, 25, 22, 2, 1]\n",
      "['o', 'l', 'Z', 'M', 'C', 'A']\n",
      "['Hi ', 'Hi', 'Hi', 'Hello ', 'Hello', 'Hello']\n",
      "[1.6, 1.5, 1.4, 1.3, 1.2, 1.2]\n",
      "['Surya', 'Rajesh', 'Mahesh', 'Hello World']\n"
     ]
    }
   ],
   "source": [
    "#Sort\n",
    "A=[1,2,52,89,25,47,62,108,986,22]\n",
    "B=[\"A\",\"C\",\"M\",\"l\",\"Z\",\"o\"]\n",
    "C=[\"Hi\",\"Hello\",\"Hi\",\"Hello\", \"Hi \", \"Hello \"]\n",
    "D=[1.2,1.3,1.4,1.2,1.5,1.6]\n",
    "E=[\"Hello World\", \"Rajesh\",\"Mahesh\", \"Surya\"]\n",
    "A.sort()\n",
    "B.sort()\n",
    "C.sort()\n",
    "D.sort()\n",
    "E.sort()\n",
    "print(A)\n",
    "print(B)\n",
    "print(C)\n",
    "print(D)\n",
    "print(E)\n",
    "\n",
    "print(\".........................................................................................................................\")\n",
    " #revrse \n",
    "A.reverse()\n",
    "B.reverse()\n",
    "C.reverse()\n",
    "D.reverse()\n",
    "E.reverse()\n",
    "print(A)\n",
    "print(B)\n",
    "print(C)\n",
    "print(D)\n",
    "print(E)"
   ]
  },
  {
   "cell_type": "code",
   "execution_count": null,
   "id": "9cf56442-0b3b-4a22-a050-e31f30d63185",
   "metadata": {},
   "outputs": [],
   "source": []
  }
 ],
 "metadata": {
  "kernelspec": {
   "display_name": "Python 3 (ipykernel)",
   "language": "python",
   "name": "python3"
  },
  "language_info": {
   "codemirror_mode": {
    "name": "ipython",
    "version": 3
   },
   "file_extension": ".py",
   "mimetype": "text/x-python",
   "name": "python",
   "nbconvert_exporter": "python",
   "pygments_lexer": "ipython3",
   "version": "3.11.7"
  }
 },
 "nbformat": 4,
 "nbformat_minor": 5
}
